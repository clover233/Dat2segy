{
 "cells": [
  {
   "cell_type": "code",
   "execution_count": null,
   "outputs": [],
   "source": [
    "import os\n",
    "import numpy as np\n",
    "\n",
    "import segysak\n",
    "from segysak import segy\n",
    "import xarray as xr"
   ],
   "metadata": {
    "collapsed": false,
    "pycharm": {
     "name": "#%%\n"
    }
   }
  },
  {
   "cell_type": "code",
   "execution_count": null,
   "outputs": [],
   "source": [
    "def write_cube(data, path):\n",
    "    data = np.transpose(data,[1,2,0]).astype(np.single)\n",
    "    data.tofile(path)\n",
    "\n",
    "def read_cube(input_data_path, size):\n",
    "    input_cube = np.fromfile(input_data_path, dtype=np.single)\n",
    "    input_cube = np.reshape(input_cube, size)\n",
    "    input_cube = input_cube.transpose((2,0,1))\n",
    "    return input_cube\n",
    "\n",
    "import matplotlib as mpl\n",
    "import matplotlib.pyplot as plt\n",
    "import matplotlib.colors as colors\n",
    "def draw_img(img, msk=None, cmap=\"jet\", method=\"bilinear\"):\n",
    "    plt.imshow(img,cmap=cmap, interpolation=method)\n",
    "    if msk is not None:\n",
    "        plt.imshow(msk, alpha=0.4, cmap='jet', interpolation='nearest')  \n",
    "    plt.colorbar(fraction=0.023,pad=0.02) \n",
    "    \n",
    "def sort_list_IDs(list_IDs):\n",
    "    list_nums = [int(i.split(\".\")[0]) for i in list_IDs]\n",
    "    list_sort = sorted(enumerate(list_nums), key=lambda x:x[1])\n",
    "    list_index = [i[0] for i in list_sort]\n",
    "    list_IDs_new = [list_IDs[i] for i in list_index]\n",
    "    return list_IDs_new"
   ],
   "metadata": {
    "collapsed": false,
    "pycharm": {
     "name": "#%%\n"
    }
   }
  },
  {
   "cell_type": "code",
   "execution_count": null,
   "outputs": [],
   "source": [
    "data_name = \"slyt\"\n",
    "root_path = os.path.join(os.path.abspath('.'), 'data', data_name)\n",
    "seis_path = os.path.join(root_path, \"seis\")\n",
    "rgt_path = os.path.join(root_path, \"seis\")\n",
    "sgy_path = os.path.join(root_path, \"sgy\")\n",
    "twt,iline,xline = 1252,287,735\n",
    "print(sgy_path)"
   ],
   "metadata": {
    "collapsed": false,
    "pycharm": {
     "name": "#%%\n"
    }
   }
  },
  {
   "cell_type": "code",
   "execution_count": null,
   "outputs": [],
   "source": [
    "input_data_path = os.path.join(rgt_path, f\"seis.dat\")\n",
    "print(input_data_path)\n",
    "gx = read_cube(input_data_path, (xline,iline,twt))\n",
    "# data_sgy = segysak.create3d_dataset((iline, xline, twt))\n",
    "# data_sgy.__setitem__(\"data\", (('iline','xline','twt'), gx.transpose((2,1,0))))\n",
    "# segysak.segy.segy_writer(data_sgy, os.path.join(sgy_path, f\"{what}_{k}.sgy\"))"
   ],
   "metadata": {
    "collapsed": false,
    "pycharm": {
     "name": "#%%\n"
    }
   }
  },
  {
   "cell_type": "code",
   "execution_count": null,
   "outputs": [],
   "source": [
    "data_sgy = segysak.create3d_dataset((iline, xline, twt))\n",
    "data_sgy.__setitem__(\"data\", (('iline','xline','twt'), gx.transpose((2,1,0))))\n",
    "segysak.segy.segy_writer(data_sgy, os.path.join(sgy_path, f\"kerry.sgy\"))"
   ],
   "metadata": {
    "collapsed": false,
    "pycharm": {
     "name": "#%%\n"
    }
   }
  },
  {
   "cell_type": "code",
   "execution_count": null,
   "outputs": [],
   "source": [
    "segy.get_segy_texthead(os.path.join(sgy_path, f\"kerry.sgy\"))"
   ],
   "metadata": {
    "collapsed": false,
    "pycharm": {
     "name": "#%%\n"
    }
   }
  },
  {
   "cell_type": "code",
   "execution_count": null,
   "outputs": [],
   "source": [],
   "metadata": {
    "collapsed": false,
    "pycharm": {
     "name": "#%%\n"
    }
   }
  }
 ],
 "metadata": {
  "kernelspec": {
   "display_name": "Python 3",
   "language": "python",
   "name": "python3"
  },
  "language_info": {
   "codemirror_mode": {
    "name": "ipython",
    "version": 3
   },
   "file_extension": ".py",
   "mimetype": "text/x-python",
   "name": "python",
   "nbconvert_exporter": "python",
   "pygments_lexer": "ipython3",
   "version": "3.8.5"
  }
 },
 "nbformat": 4,
 "nbformat_minor": 2
}