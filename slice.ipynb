{
 "cells": [
  {
   "cell_type": "code",
   "execution_count": 12,
   "id": "0afb3c98",
   "metadata": {},
   "outputs": [],
   "source": [
    "import numpy as np\n",
    "sx = np.fromfile(\"C:/Users/12073/Desktop/result2.dat\",dtype=\"<f\")\n",
    "sx = np.reshape(sx,(1001,1501,2501))\n",
    "sx = np.transpose(sx)\n",
    "sxslice = sx[400:700,700:1000,700:1000]\n",
    "sxslice = np.transpose(sxslice)\n",
    "sxslice.tofile(\"C:/Users/12073/Desktop/new/\"+\"new1.dat\")"
   ]
  },
  {
   "cell_type": "code",
   "execution_count": null,
   "id": "a8d61845",
   "metadata": {},
   "outputs": [],
   "source": []
  }
 ],
 "metadata": {
  "kernelspec": {
   "display_name": "Python 3 (ipykernel)",
   "language": "python",
   "name": "python3"
  },
  "language_info": {
   "codemirror_mode": {
    "name": "ipython",
    "version": 3
   },
   "file_extension": ".py",
   "mimetype": "text/x-python",
   "name": "python",
   "nbconvert_exporter": "python",
   "pygments_lexer": "ipython3",
   "version": "3.9.7"
  }
 },
 "nbformat": 4,
 "nbformat_minor": 5
}
